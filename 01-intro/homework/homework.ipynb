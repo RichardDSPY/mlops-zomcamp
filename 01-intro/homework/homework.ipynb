{
 "cells": [
  {
   "cell_type": "code",
   "execution_count": 1,
   "id": "4d3ad18a-1c32-457d-b45e-5048b9b3ecad",
   "metadata": {},
   "outputs": [
    {
     "name": "stdout",
     "output_type": "stream",
     "text": [
      "Python 3.11.5\n"
     ]
    },
    {
     "data": {
      "text/plain": [
       "'Code example'"
      ]
     },
     "execution_count": 1,
     "metadata": {},
     "output_type": "execute_result"
    }
   ],
   "source": [
    "!python -V\n",
    "'Code example'"
   ]
  },
  {
   "cell_type": "markdown",
   "id": "feb65eef-f71f-43f6-a3a2-c8338052bb42",
   "metadata": {},
   "source": [
    "# 1.- Librerias"
   ]
  },
  {
   "cell_type": "code",
   "execution_count": 23,
   "id": "f8719c6c-d40c-43b5-8ae5-39b18acd5c2a",
   "metadata": {},
   "outputs": [],
   "source": [
    "import numpy as np\n",
    "import pandas as pd\n",
    "\n",
    "import seaborn as sns\n",
    "import matplotlib.pyplot as plt\n",
    "\n",
    "import pickle\n",
    "\n",
    "import sklearn\n",
    "from sklearn.feature_extraction import DictVectorizer\n",
    "from sklearn.linear_model import LinearRegression\n",
    "from sklearn.linear_model import Lasso\n",
    "from sklearn.linear_model import Ridge\n",
    "\n",
    "from sklearn.metrics import mean_squared_error\n",
    "#!pip install pyarrow\n",
    "\n",
    "import warnings\n",
    "warnings.filterwarnings(\"ignore\")"
   ]
  },
  {
   "cell_type": "code",
   "execution_count": 3,
   "id": "9f10ae6b-17e2-496c-925f-9b3ee3306774",
   "metadata": {},
   "outputs": [
    {
     "name": "stdout",
     "output_type": "stream",
     "text": [
      "2.0.3\n",
      "1.2.2\n"
     ]
    }
   ],
   "source": [
    "print(pd.__version__)\n",
    "print(sklearn.__version__)"
   ]
  },
  {
   "cell_type": "markdown",
   "id": "b7efa091-cd4c-4061-b07b-294c13799ad7",
   "metadata": {},
   "source": [
    "# Pregunta 1"
   ]
  },
  {
   "cell_type": "code",
   "execution_count": 15,
   "id": "fd7cda08-b984-4195-8e6b-9df120e0ff67",
   "metadata": {},
   "outputs": [
    {
     "name": "stdout",
     "output_type": "stream",
     "text": [
      "19\n"
     ]
    },
    {
     "data": {
      "text/html": [
       "<div>\n",
       "<style scoped>\n",
       "    .dataframe tbody tr th:only-of-type {\n",
       "        vertical-align: middle;\n",
       "    }\n",
       "\n",
       "    .dataframe tbody tr th {\n",
       "        vertical-align: top;\n",
       "    }\n",
       "\n",
       "    .dataframe thead th {\n",
       "        text-align: right;\n",
       "    }\n",
       "</style>\n",
       "<table border=\"1\" class=\"dataframe\">\n",
       "  <thead>\n",
       "    <tr style=\"text-align: right;\">\n",
       "      <th></th>\n",
       "      <th>VendorID</th>\n",
       "      <th>tpep_pickup_datetime</th>\n",
       "      <th>tpep_dropoff_datetime</th>\n",
       "      <th>passenger_count</th>\n",
       "      <th>trip_distance</th>\n",
       "      <th>RatecodeID</th>\n",
       "      <th>store_and_fwd_flag</th>\n",
       "      <th>PULocationID</th>\n",
       "      <th>DOLocationID</th>\n",
       "      <th>payment_type</th>\n",
       "      <th>fare_amount</th>\n",
       "      <th>extra</th>\n",
       "      <th>mta_tax</th>\n",
       "      <th>tip_amount</th>\n",
       "      <th>tolls_amount</th>\n",
       "      <th>improvement_surcharge</th>\n",
       "      <th>total_amount</th>\n",
       "      <th>congestion_surcharge</th>\n",
       "      <th>airport_fee</th>\n",
       "    </tr>\n",
       "  </thead>\n",
       "  <tbody>\n",
       "    <tr>\n",
       "      <th>0</th>\n",
       "      <td>2</td>\n",
       "      <td>2023-01-01 00:32:10</td>\n",
       "      <td>2023-01-01 00:40:36</td>\n",
       "      <td>1.0</td>\n",
       "      <td>0.97</td>\n",
       "      <td>1.0</td>\n",
       "      <td>N</td>\n",
       "      <td>161</td>\n",
       "      <td>141</td>\n",
       "      <td>2</td>\n",
       "      <td>9.3</td>\n",
       "      <td>1.0</td>\n",
       "      <td>0.5</td>\n",
       "      <td>0.0</td>\n",
       "      <td>0.0</td>\n",
       "      <td>1.0</td>\n",
       "      <td>14.3</td>\n",
       "      <td>2.5</td>\n",
       "      <td>0.0</td>\n",
       "    </tr>\n",
       "    <tr>\n",
       "      <th>1</th>\n",
       "      <td>2</td>\n",
       "      <td>2023-01-01 00:55:08</td>\n",
       "      <td>2023-01-01 01:01:27</td>\n",
       "      <td>1.0</td>\n",
       "      <td>1.10</td>\n",
       "      <td>1.0</td>\n",
       "      <td>N</td>\n",
       "      <td>43</td>\n",
       "      <td>237</td>\n",
       "      <td>1</td>\n",
       "      <td>7.9</td>\n",
       "      <td>1.0</td>\n",
       "      <td>0.5</td>\n",
       "      <td>4.0</td>\n",
       "      <td>0.0</td>\n",
       "      <td>1.0</td>\n",
       "      <td>16.9</td>\n",
       "      <td>2.5</td>\n",
       "      <td>0.0</td>\n",
       "    </tr>\n",
       "  </tbody>\n",
       "</table>\n",
       "</div>"
      ],
      "text/plain": [
       "   VendorID tpep_pickup_datetime tpep_dropoff_datetime  passenger_count  \\\n",
       "0         2  2023-01-01 00:32:10   2023-01-01 00:40:36              1.0   \n",
       "1         2  2023-01-01 00:55:08   2023-01-01 01:01:27              1.0   \n",
       "\n",
       "   trip_distance  RatecodeID store_and_fwd_flag  PULocationID  DOLocationID  \\\n",
       "0           0.97         1.0                  N           161           141   \n",
       "1           1.10         1.0                  N            43           237   \n",
       "\n",
       "   payment_type  fare_amount  extra  mta_tax  tip_amount  tolls_amount  \\\n",
       "0             2          9.3    1.0      0.5         0.0           0.0   \n",
       "1             1          7.9    1.0      0.5         4.0           0.0   \n",
       "\n",
       "   improvement_surcharge  total_amount  congestion_surcharge  airport_fee  \n",
       "0                    1.0          14.3                   2.5          0.0  \n",
       "1                    1.0          16.9                   2.5          0.0  "
      ]
     },
     "execution_count": 15,
     "metadata": {},
     "output_type": "execute_result"
    }
   ],
   "source": [
    "# Cargo la base de green trip para enero 2021\n",
    "df = pd.read_parquet('https://d37ci6vzurychx.cloudfront.net/trip-data/yellow_tripdata_2023-01.parquet')\n",
    "nume_cols = len(df.columns)\n",
    "print(nume_cols)\n",
    "df.head(2)\n"
   ]
  },
  {
   "cell_type": "markdown",
   "id": "bf8f704f-e8bb-4d95-b2fc-50781b7afd9a",
   "metadata": {},
   "source": [
    "# Pregunta 2"
   ]
  },
  {
   "cell_type": "code",
   "execution_count": 16,
   "id": "adbd5b9c",
   "metadata": {},
   "outputs": [
    {
     "name": "stdout",
     "output_type": "stream",
     "text": [
      "La desviación estandar es: 42.594351241920904\n"
     ]
    }
   ],
   "source": [
    "# Calculamos la duracion del viaje en taxi en minutos\n",
    "df['duration'] = df.tpep_dropoff_datetime - df.tpep_pickup_datetime\n",
    "df.duration = df.duration.apply(lambda td: td.total_seconds() / 60)\n",
    "\n",
    "df_std = df.duration.std()\n",
    "\n",
    "print(f'La desviación estandar es: {df_std}')"
   ]
  },
  {
   "cell_type": "markdown",
   "id": "0c352e76",
   "metadata": {},
   "source": [
    "# Pregunta 3"
   ]
  },
  {
   "cell_type": "code",
   "execution_count": 17,
   "id": "f6b8d347",
   "metadata": {},
   "outputs": [
    {
     "name": "stdout",
     "output_type": "stream",
     "text": [
      "count    3.066766e+06\n",
      "mean     1.566900e+01\n",
      "std      4.259435e+01\n",
      "min     -2.920000e+01\n",
      "50%      1.151667e+01\n",
      "95%      3.646667e+01\n",
      "98%      4.873333e+01\n",
      "99%      5.725000e+01\n",
      "max      1.002918e+04\n",
      "Name: duration, dtype: float64\n",
      "% Data entre 1 y 60: 98.12% registros\n"
     ]
    }
   ],
   "source": [
    "# Revisamos la distribucion de los datos para la duracion\n",
    "print(df.duration.describe(percentiles=[0.95, 0.98, 0.99]))\n",
    "\n",
    "nume_without_outliers = ((df.duration >= 1) & (df.duration <= 60)).mean()\n",
    "print(f'% Data entre 1 y 60: {np.round(nume_without_outliers*100, 2)}% registros')\n",
    "\n",
    "df = df[(df.duration >= 1) & (df.duration <= 60)]"
   ]
  },
  {
   "cell_type": "markdown",
   "id": "0a927060-cf23-4ba3-8973-c3b33e15d5cc",
   "metadata": {},
   "source": [
    "# Pregunta 4"
   ]
  },
  {
   "cell_type": "code",
   "execution_count": 20,
   "id": "200b6db7-c91b-4f48-bd9e-2f985711bef9",
   "metadata": {},
   "outputs": [
    {
     "name": "stdout",
     "output_type": "stream",
     "text": [
      "El numero de columnas de la matriz dispersa es: 515\n"
     ]
    }
   ],
   "source": [
    "# Variables categoricas y numericas que usaremos\n",
    "categorical = ['PULocationID', 'DOLocationID']\n",
    "\n",
    "# Transformamos las variables categoricas a tipo 'str'\n",
    "df[categorical] = df[categorical].astype(str)\n",
    "\n",
    "# Almacenamos las variables en una lista compuesta por diccionarios\n",
    "train_dicts = df[categorical].to_dict(orient='records')\n",
    "\n",
    "# Creamos nuetsra instancia de DictVectorizer\n",
    "dv = DictVectorizer()\n",
    "# Transformamos nuestra lista de diccionarios en una matriz dispersa que se le aplico One Hot Enconding a las variables categoricas\n",
    "X_train = dv.fit_transform(train_dicts)\n",
    "\n",
    "shape_df = X_train.shape\n",
    "print(f'El numero de columnas de la matriz dispersa es: {shape_df[1]}')"
   ]
  },
  {
   "cell_type": "markdown",
   "id": "74e5d203",
   "metadata": {},
   "source": [
    "# Pregunta 5"
   ]
  },
  {
   "cell_type": "code",
   "execution_count": 21,
   "id": "74faa861",
   "metadata": {},
   "outputs": [],
   "source": [
    "# Definimos nuestra variable target\n",
    "target = 'duration'\n",
    "y_train = df[target].values"
   ]
  },
  {
   "cell_type": "code",
   "execution_count": 24,
   "id": "a1d55135-e48b-45d7-8aa3-feba5eedba74",
   "metadata": {},
   "outputs": [
    {
     "name": "stdout",
     "output_type": "stream",
     "text": [
      "RMSE Train: 7.649262055538092\n"
     ]
    },
    {
     "data": {
      "image/png": "[encoded data removed]",
      "text/plain": [
       "<Figure size 640x480 with 1 Axes>"
      ]
     },
     "metadata": {},
     "output_type": "display_data"
    }
   ],
   "source": [
    "# Creamos la instancia para el modelo de regresion lineal\n",
    "lr = LinearRegression()\n",
    "# Ajustamos el modelo con nuestra informacion de entrenamiento\n",
    "lr.fit(X_train, y_train)\n",
    "\n",
    "# Calculamos el MSE\n",
    "y_pred = lr.predict(X_train)\n",
    "rmse_train = mean_squared_error(y_train, y_pred, squared=False)\n",
    "print(f'RMSE Train: {rmse_train}')\n",
    "# Revisamos la distribucion de la predicciones y valores reales\n",
    "sns.distplot(y_pred, label='prediction')\n",
    "sns.distplot(y_train, label='actual')\n",
    "plt.legend(); plt.show()"
   ]
  },
  {
   "cell_type": "markdown",
   "id": "6741c673-464c-4f63-94fe-08640966da00",
   "metadata": {},
   "source": [
    "## *Funcion para replicar procesamiento*"
   ]
  },
  {
   "cell_type": "code",
   "execution_count": 25,
   "id": "cd6a6aee-5bd6-4275-8093-c93d5498fd83",
   "metadata": {},
   "outputs": [],
   "source": [
    "# Creamos una funcion que aplique los pasos de limpieza que realizamos anteriormente\n",
    "def read_dataframe(filename):\n",
    "    # Carga de base\n",
    "    if filename.endswith('.parquet'):\n",
    "        df = pd.read_parquet(filename)\n",
    "    \n",
    "    # Limpieza\n",
    "    df['duration'] = df.tpep_dropoff_datetime - df.tpep_pickup_datetime\n",
    "    df.duration = df.duration.apply(lambda td: td.total_seconds() / 60)\n",
    "\n",
    "    df = df[(df.duration >= 1) & (df.duration <= 60)]\n",
    "\n",
    "    categorical = ['PULocationID', 'DOLocationID']\n",
    "    df[categorical] = df[categorical].astype(str)\n",
    "    \n",
    "    return df"
   ]
  },
  {
   "cell_type": "markdown",
   "id": "b16dc188-337b-4502-a995-aeae7f8db73f",
   "metadata": {},
   "source": [
    "# Pregunta 6"
   ]
  },
  {
   "cell_type": "code",
   "execution_count": 26,
   "id": "feb618f0-a2a0-44b2-b8f8-0f5f675863f8",
   "metadata": {},
   "outputs": [],
   "source": [
    "df_train = read_dataframe('https://d37ci6vzurychx.cloudfront.net/trip-data/yellow_tripdata_2023-01.parquet')\n",
    "df_val = read_dataframe('https://d37ci6vzurychx.cloudfront.net/trip-data/yellow_tripdata_2023-02.parquet')"
   ]
  },
  {
   "cell_type": "code",
   "execution_count": 27,
   "id": "12b37a27-bc53-4756-98b1-1f8409a8e95b",
   "metadata": {},
   "outputs": [
    {
     "data": {
      "text/plain": [
       "(3009173, 2855951)"
      ]
     },
     "execution_count": 27,
     "metadata": {},
     "output_type": "execute_result"
    }
   ],
   "source": [
    "# Revisamos el tamaño de las bases de entrenamiento y validacion\n",
    "len(df_train), len(df_val)"
   ]
  },
  {
   "cell_type": "code",
   "execution_count": 28,
   "id": "60d6c16a-391e-46d9-9afe-e8ca237d88d8",
   "metadata": {},
   "outputs": [],
   "source": [
    "categorical = ['PULocationID', 'DOLocationID']\n",
    "\n",
    "# Aplicamos la instancia DictVectorizer a la data de entrenamiento y validacion\n",
    "dv = DictVectorizer()\n",
    "train_dicts = df_train[categorical].to_dict(orient='records')\n",
    "X_train = dv.fit_transform(train_dicts)\n",
    "val_dicts = df_val[categorical].to_dict(orient='records')\n",
    "X_valid = dv.transform(val_dicts)"
   ]
  },
  {
   "cell_type": "code",
   "execution_count": 29,
   "id": "a3d2a1b5-3de1-4c54-b13b-264c15ea9494",
   "metadata": {},
   "outputs": [],
   "source": [
    "# Definimos nuestra target para entrenamiento y validacion\n",
    "target = 'duration'\n",
    "y_train = df_train[target].values\n",
    "y_valid = df_val[target].values"
   ]
  },
  {
   "cell_type": "code",
   "execution_count": 30,
   "id": "14ce7fb9-4488-4704-91c0-3231ed66a7b4",
   "metadata": {},
   "outputs": [
    {
     "name": "stdout",
     "output_type": "stream",
     "text": [
      "MSE Train: 7.649262055538092\n",
      "MSE Valid: 7.811816386688629\n"
     ]
    }
   ],
   "source": [
    "# Creamos y ajustamos el modelo de regresion a nuestra data de entrenamiento\n",
    "lr = LinearRegression()\n",
    "lr.fit(X_train, y_train)\n",
    "\n",
    "# Validamos su performance en nuestra data de validacion\n",
    "y_pred_train = lr.predict(X_train)\n",
    "y_pred_valid = lr.predict(X_valid)\n",
    "rmse_train = mean_squared_error(y_train, y_pred_train, squared=False)\n",
    "rmse_valid = mean_squared_error(y_valid, y_pred_valid, squared=False)\n",
    "print(f'MSE Train: {rmse_train}')\n",
    "print(f'MSE Valid: {rmse_valid}')"
   ]
  },
  {
   "cell_type": "code",
   "execution_count": null,
   "id": "1d33b3c4-8f87-4888-b044-a65842f55ecf",
   "metadata": {},
   "outputs": [],
   "source": []
  }
 ],
 "metadata": {
  "kernelspec": {
   "display_name": "Python 3 (ipykernel)",
   "language": "python",
   "name": "python3"
  },
  "language_info": {
   "codemirror_mode": {
    "name": "ipython",
    "version": 3
   },
   "file_extension": ".py",
   "mimetype": "text/x-python",
   "name": "python",
   "nbconvert_exporter": "python",
   "pygments_lexer": "ipython3",
   "version": "3.11.5"
  }
 },
 "nbformat": 4,
 "nbformat_minor": 5
}
